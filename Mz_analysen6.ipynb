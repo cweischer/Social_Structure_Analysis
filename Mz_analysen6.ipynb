{
 "cells": [
  {
   "cell_type": "markdown",
   "id": "d2f3f0ec",
   "metadata": {},
   "source": [
    "## Migration und Sozialstruktur\n",
    "In diesem Programm werden Aggregatdaten aus dem Mikrozensus 2019 verwandt, um verschiedene \"Migrationsgruppen\" sozialräumlich darszustellen. \n",
    "Link zu den xlsx-Daten: https://www.statistischebibliothek.de/mir/receive/DEHeft_mods_00131402\n",
    "Im folgenden wird zunächst die Struktur des Programms genauer erläutert."
   ]
  },
  {
   "cell_type": "code",
   "execution_count": 40,
   "id": "90024ae1",
   "metadata": {},
   "outputs": [],
   "source": [
    "#Import der verwandten Libraries\n",
    "import pandas as pd\n",
    "import numpy as np\n",
    "import os\n",
    "from matplotlib import pyplot as plt\n",
    "from adjustText import adjust_text"
   ]
  },
  {
   "cell_type": "markdown",
   "id": "c66f29f4",
   "metadata": {},
   "source": [
    "Beim Import stellt sich das Problem, dass die Label der Spalten recht komplex aufgebaut sind, daher wird der Datensatz erst ab der Zeile mit den Spaltennummern eingelesen (s. header); diese befinden sich jedoch je nach Datenblatt in verschiedenen Zeilen. "
   ]
  },
  {
   "cell_type": "code",
   "execution_count": 41,
   "id": "bf2823d4",
   "metadata": {},
   "outputs": [],
   "source": [
    "#Tabellenblatt 16I: pers. Einkommen\n",
    "t16=pd.read_excel('MZ_Migration 2019.xlsx', index_col=0, header=6, usecols=range(0,27), sheet_name='Tab16I')  \n",
    "t16.columns=list(range(1,27))\n",
    "t16=t16.replace(['/   ','–   '],['0','0'])\n",
    "p_inc=t16.iloc[0:78,[0,25]]\n",
    "p_inc=p_inc.apply(pd.to_numeric)"
   ]
  },
  {
   "cell_type": "markdown",
   "id": "017d8bcf",
   "metadata": {},
   "source": [
    "Alternativ zum Einlesen aus einer heruntergekadenen Datei, können die Datein auch direkt per https abgerufen werden.\n",
    "\n",
    "import requests\n",
    "url=\"https://www.statistischebibliothek.de/mir/servlets/MCRFileNodeServlet/DEHeft_derivate_00037332/2010220117005_korr13032017.xlsx\"\n",
    "s = requests.get(url).content\n",
    "c = pd.read_excel(s,sheet_name='Tab16I')"
   ]
  },
  {
   "cell_type": "code",
   "execution_count": 42,
   "id": "0315b525",
   "metadata": {},
   "outputs": [],
   "source": [
    "#Tabellenblatt 8I: schulische Bildungsjahre\n",
    "t8=pd.read_excel('MZ_Migration 2019.xlsx', index_col=0, header=5, usecols=range(0,10), sheet_name='Tab8I')  \n",
    "t8.columns=list(range(1,10))\n",
    "t8=t8.iloc[0:78,:]\n",
    "t8=t8.replace(['/   ','–   '],['0','0'])\n",
    "t8=t8.apply(pd.to_numeric)\n",
    "#Ermittlung der schulischen Bildungsjahre\n",
    "t8['s_y']=(t8[3]*7+t8[5]*9+t8[6]*10+t8[7]*10+t8[8]*12+t8[9]*13)/(t8[3]+t8[5]+t8[6]+t8[7]+t8[8]+t8[9])\n",
    "sy=t8['s_y']"
   ]
  },
  {
   "cell_type": "code",
   "execution_count": 43,
   "id": "0d8c8280",
   "metadata": {
    "scrolled": true
   },
   "outputs": [],
   "source": [
    "#Tabellenblatt 9I: berufliche Bildungsjahre\n",
    "t9=pd.read_excel('MZ_Migration 2019.xlsx', index_col=0, header=6, usecols=range(0,17), sheet_name='Tab9I')  \n",
    "t9.columns=list(range(1,17))\n",
    "t9=t9.iloc[0:78,:]\n",
    "t9=t9.replace(['/   ','–   '],['0','0'])\n",
    "t9=t9.apply(pd.to_numeric)\n",
    "t9['p_y']=(t9[6]*1.5+t9[7]*3+t9[8]*3+t9[10]*3+t9[11]*5+t9[12]*5+t9[13]*5)/(t9[3]+t9[6]+t9[7]+t9[8]+t9[10]+t9[11]+t9[12]+t9[13])\n",
    "py=t9['p_y']\n",
    "py.columns=('p_y')"
   ]
  },
  {
   "cell_type": "code",
   "execution_count": 44,
   "id": "bcabb9f3",
   "metadata": {
    "scrolled": true
   },
   "outputs": [
    {
     "name": "stdout",
     "output_type": "stream",
     "text": [
      "                                                       inc        edu    col  \\\n",
      "Nach Migrationsstatus                                                          \n",
      "Bevölkerung in Privathaushalten insgesamt           2138.0  12.617625    red   \n",
      "Personen ohne Migrationshintergrund                 2225.0  12.757488    red   \n",
      "Personen mit Migrationshintergrund im weiteren ...  1869.0  12.145547    red   \n",
      "– Personen mit eigener Migrationserfahrung          1873.0  12.001749    red   \n",
      "• Ausländer                                         1779.0  11.802314    red   \n",
      "• Deutsche                                          2007.0  12.297244    red   \n",
      "» (Spät-) Aussiedler                                1915.0  12.023932    red   \n",
      "» Eingebürgerte                                     2108.0  12.526143    red   \n",
      "» Als Deutsche Geborene                             2118.0  12.999037    red   \n",
      "o mit beidseitigem Migrationshintergrund            2050.0  12.164247    red   \n",
      "o mit einseitigem Migrationshintergrund             2196.0  14.278963    red   \n",
      "– Personen ohne eigene Migrationserfahrung          1857.0  12.718351    red   \n",
      "• Ausländer                                         1865.0  11.778711    red   \n",
      "• Deutsche                                          1853.0  13.095480    red   \n",
      "» Eingebürgerte                                     2140.0  13.022907    red   \n",
      "» Als Deutsche Geborene                             1770.0  13.112983    red   \n",
      "o mit beidseitigem Migrationshintergrund            1234.0  12.459461    red   \n",
      "o mit einseitigem Migrationshintergrund             1964.0  13.317956    red   \n",
      "Personen mit Migrationshintergrund im engeren S...  1837.0  12.046953    red   \n",
      "– Personen ohne eigene Migrationserfahrung i.e.S.   1668.0  12.291067    red   \n",
      "• Deutsche i.e.S.                                   1523.0  12.666978    red   \n",
      "» Als Deutsche Geborene i.e.S.                      1059.0  12.248908    red   \n",
      "o mit beidseitigem Migrationshintergrund i.e.S.     1042.0  12.251739    red   \n",
      "o mit einseitigem Migrationshintergrund i.e.S.      1080.0  12.239006    red   \n",
      "Personen mit Migrationshintergrund                  1869.0  12.145547    red   \n",
      "Europa                                              1909.0  12.011874   blue   \n",
      "–  EU-28                                            2001.0  12.480453  black   \n",
      "• Bulgarien                                         1620.0  11.771196  green   \n",
      "• Frankreich                                        2603.0  14.839009  green   \n",
      "• Griechenland                                      1897.0  11.422518  green   \n",
      "• Italien                                           1938.0  11.165893  green   \n",
      "• Kroatien                                          1889.0  11.613682  green   \n",
      "• Niederlande                                       2531.0  13.549277  green   \n",
      "• Österreich                                        2621.0  13.522876  green   \n",
      "• Polen                                             1874.0  12.572713  green   \n",
      "• Portugal                                          1921.0  10.855310  green   \n",
      "• Rumänien                                          1856.0  12.405820  green   \n",
      "• Spanien                                           2333.0  13.352273  green   \n",
      "• Vereinigtes Königreich                            2598.0  14.396833  green   \n",
      "–  Sonstiges Europa                                 1782.0  11.417367  black   \n",
      "• Bosnien und Herzegowina                           1827.0  11.545126  green   \n",
      "• Kosovo                                            1628.0  10.501634  green   \n",
      "• Russische Föderation                              1751.0  12.495070  green   \n",
      "• Serbien                                           1852.0  11.418502  green   \n",
      "• Türkei                                            1785.0  10.499293  green   \n",
      "• Ukraine                                           1762.0  13.576409  green   \n",
      "Afrika                                              1652.0  11.905519   blue   \n",
      "• Marokko                                           1724.0  11.418753  green   \n",
      "• Ägypten, Algerien, Libyen, Tunesien               1894.0  12.965986  green   \n",
      "Amerika                                             2111.0  14.627740   blue   \n",
      "–  Nordamerika                                      2528.0  14.987800  black   \n",
      "• Vereinigte Staaten                                2557.0  14.969191  green   \n",
      "–  Mittel- und Südamerika                           1869.0  14.410005  black   \n",
      "Asien                                               1741.0  12.240970   blue   \n",
      "–  Naher und Mittlerer Osten                        1700.0  11.892211  black   \n",
      "• Irak                                              1442.0  10.299961  green   \n",
      "• Iran                                              2002.0  14.293530  green   \n",
      "• Kasachstan                                        1688.0  11.790329  green   \n",
      "• Syrien                                            1456.0  11.216445  green   \n",
      "–  Sonstiges Asien                                  1832.0  13.065833  black   \n",
      "• Afghanistan                                       1591.0  10.161323  green   \n",
      "• China                                             2305.0  15.956964  green   \n",
      "• Indien                                            2414.0  15.199037  green   \n",
      "• Pakistan                                          1737.0  11.759834  green   \n",
      "• Vietnam                                           1505.0  12.229540  green   \n",
      "Australien und Ozeanien                             2276.0  14.424749   blue   \n",
      "–  Gebiet des ehemaligen Jugoslawien                1806.0  11.316820  black   \n",
      "–  Gebiet der ehemaligen Sowjetunion                1730.0  12.448059  black   \n",
      "–  Gastarbeiteranwerbestaaten                       1849.0  11.086825  black   \n",
      "–  vor 2004 beigetretene EU-Staaten                 2225.0  12.461973  black   \n",
      "–  seit 2004 beigetretene EU-Staaten                1867.0  12.489471  black   \n",
      "\n",
      "                                                                                                 text  \n",
      "Nach Migrationsstatus                                                                                  \n",
      "Bevölkerung in Privathaushalten insgesamt           Bevölkerung in Privathaushalten insgesamt  (10...  \n",
      "Personen ohne Migrationshintergrund                                      Personen ohne Mgh.  (74.04%)  \n",
      "Personen mit Migrationshintergrund im weiteren ...       Personen mit Mgh. im weiteren Sinn  (25.96%)  \n",
      "– Personen mit eigener Migrationserfahrung          m.MghiwS_m_eig_Erf:Personen mit eigener Migrat...  \n",
      "• Ausländer                                                    m.MghiwS_m_eig_Erf:Ausländer  (10.45%)  \n",
      "• Deutsche                                                        m.MghiwS_m_eig_Erf:Deutsche (6.26%)  \n",
      "» (Spät-) Aussiedler                                   m.MghiwS_m_eig_Erf:(Spät-) Aussiedler  (3.19%)  \n",
      "» Eingebürgerte                                             m.MghiwS_m_eig_Erf:Eingebürgerte  (2.63%)  \n",
      "» Als Deutsche Geborene                             m.MghiwS_m_eig_Erf:Als Deutsche Geborene  (0.38%)  \n",
      "o mit beidseitigem Migrationshintergrund             m.MghiwS_m_eig_Erf:Dgeb_mit beids. Mgh.  (0.18%)  \n",
      "o mit einseitigem Migrationshintergrund               m.MghiwS_m_eig_Erf:Dgeb_mit eins. Mgh.  (0.19%)  \n",
      "– Personen ohne eigene Migrationserfahrung          m.MghiwS_o_eig_Erf:Personen ohne eigene Migrat...  \n",
      "• Ausländer                                                     m.MghiwS_o_eig_Erf:Ausländer  (1.91%)  \n",
      "• Deutsche                                                       m.MghiwS_o_eig_Erf:Deutsche  (7.33%)  \n",
      "» Eingebürgerte                                             m.MghiwS_o_eig_Erf:Eingebürgerte  (0.72%)  \n",
      "» Als Deutsche Geborene                               m.MghiwS_o_eig_Erf:Als Deutsche Geborene (6.6%)  \n",
      "o mit beidseitigem Migrationshintergrund             m.MghiwS_o_eig_Erf:Dgeb_mit beids. Mgh.  (2.88%)  \n",
      "o mit einseitigem Migrationshintergrund               m.MghiwS_o_eig_Erf:Dgeb_mit eins. Mgh.  (3.72%)  \n",
      "Personen mit Migrationshintergrund im engeren S...  m.MghieS_o_eig_Erf:Personen mit Mgh. im engere...  \n",
      "– Personen ohne eigene Migrationserfahrung i.e.S.   m.MghieS_o_eig_Erf:Personen ohne eigene Migrat...  \n",
      "• Deutsche i.e.S.                                          m.MghieS_o_eig_Erf:Deutsche i.e.S. (5.88%)  \n",
      "» Als Deutsche Geborene i.e.S.                      m.MghieS_o_eig_Erf:Als Deutsche Geborene i.e.S...  \n",
      "o mit beidseitigem Migrationshintergrund i.e.S.     m.MghieS_o_eig_Erf:Dgeb_mit beids. Mgh. i.e.S....  \n",
      "o mit einseitigem Migrationshintergrund i.e.S.      m.MghieS_o_eig_Erf:Dgeb_mit eins. Mgh. i.e.S. ...  \n",
      "Personen mit Migrationshintergrund                                         Personen mit Mgh. (25.96%)  \n",
      "Europa                                                                               Europa  (16.85%)  \n",
      "–  EU-28                                                                               EU-28  (9.15%)  \n",
      "• Bulgarien                                                                        Bulgarien  (0.38%)  \n",
      "• Frankreich                                                                      Frankreich  (0.23%)  \n",
      "• Griechenland                                                                  Griechenland  (0.55%)  \n",
      "• Italien                                                                            Italien  (1.07%)  \n",
      "• Kroatien                                                                          Kroatien  (0.51%)  \n",
      "• Niederlande                                                                    Niederlande  (0.24%)  \n",
      "• Österreich                                                                      Österreich  (0.42%)  \n",
      "• Polen                                                                                Polen  (2.73%)  \n",
      "• Portugal                                                                           Portugal  (0.2%)  \n",
      "• Rumänien                                                                          Rumänien  (1.24%)  \n",
      "• Spanien                                                                            Spanien  (0.26%)  \n",
      "• Vereinigtes Königreich                                              Vereinigtes Königreich  (0.21%)  \n",
      "–  Sonstiges Europa                                                          Sonstiges Europa  (7.7%)  \n",
      "• Bosnien und Herzegowina                                            Bosnien und Herzegowina  (0.54%)  \n",
      "• Kosovo                                                                              Kosovo  (0.58%)  \n",
      "• Russische Föderation                                                   Russische Föderation  (1.7%)  \n",
      "• Serbien                                                                             Serbien  (0.4%)  \n",
      "• Türkei                                                                              Türkei  (3.45%)  \n",
      "• Ukraine                                                                            Ukraine  (0.38%)  \n",
      "Afrika                                                                                Afrika  (1.21%)  \n",
      "• Marokko                                                                            Marokko  (0.29%)  \n",
      "• Ägypten, Algerien, Libyen, Tunesien                    Ägypten, Algerien, Libyen, Tunesien  (0.27%)  \n",
      "Amerika                                                                              Amerika  (0.69%)  \n",
      "–  Nordamerika                                                                   Nordamerika  (0.25%)  \n",
      "• Vereinigte Staaten                                                      Vereinigte Staaten  (0.22%)  \n",
      "–  Mittel- und Südamerika                                             Mittel- und Südamerika  (0.45%)  \n",
      "Asien                                                                                  Asien  (5.62%)  \n",
      "–  Naher und Mittlerer Osten                                       Naher und Mittlerer Osten  (3.93%)  \n",
      "• Irak                                                                                  Irak  (0.38%)  \n",
      "• Iran                                                                                  Iran  (0.29%)  \n",
      "• Kasachstan                                                                      Kasachstan  (1.52%)  \n",
      "• Syrien                                                                              Syrien  (1.03%)  \n",
      "–  Sonstiges Asien                                                           Sonstiges Asien  (1.69%)  \n",
      "• Afghanistan                                                                    Afghanistan  (0.36%)  \n",
      "• China                                                                                China  (0.23%)  \n",
      "• Indien                                                                               Indien  (0.2%)  \n",
      "• Pakistan                                                                          Pakistan  (0.15%)  \n",
      "• Vietnam                                                                            Vietnam  (0.23%)  \n",
      "Australien und Ozeanien                                              Australien und Ozeanien  (0.05%)  \n",
      "–  Gebiet des ehemaligen Jugoslawien                       Gebiet des ehemaligen Jugoslawien  (2.37%)  \n",
      "–  Gebiet der ehemaligen Sowjetunion                       Gebiet der ehemaligen Sowjetunion  (4.31%)  \n",
      "–  Gastarbeiteranwerbestaaten                                     Gastarbeiteranwerbestaaten  (8.34%)  \n",
      "–  vor 2004 beigetretene EU-Staaten                         vor 2004 beigetretene EU-Staaten  (3.39%)  \n",
      "–  seit 2004 beigetretene EU-Staaten                       seit 2004 beigetretene EU-Staaten  (5.76%)  \n"
     ]
    },
    {
     "name": "stderr",
     "output_type": "stream",
     "text": [
      "C:\\Users\\Weischer\\anaconda3\\lib\\site-packages\\pandas\\core\\indexing.py:1732: SettingWithCopyWarning: \n",
      "A value is trying to be set on a copy of a slice from a DataFrame\n",
      "\n",
      "See the caveats in the documentation: https://pandas.pydata.org/pandas-docs/stable/user_guide/indexing.html#returning-a-view-versus-a-copy\n",
      "  self._setitem_single_block(indexer, value, name)\n"
     ]
    }
   ],
   "source": [
    "#Zusammenfügung der Informationen\n",
    "t_=pd.concat([p_inc,sy,py], axis=1,ignore_index=True)\n",
    "t_= t_.rename({0:'n',1:'inc',2:'sy',3:'py'}, axis=1) \n",
    "t_['edu']=t_['sy']+t_['py']\n",
    "\n",
    "# Ermittlung der relativen Größe der Gruppen\n",
    "t_['pc'] = round((t_['n'] / t_['n'][0]) * 100,2).astype(str)\n",
    "\n",
    "#Verbesserte Beschriftung der eingerückten Items\n",
    "t_['col']='blue'\n",
    "t_['text'] = t_.index\n",
    "t_.loc[t_.text.str.contains('• '), 'col'] = 'green'\n",
    "t_.loc[t_.text.str.contains('–  '), 'col'] = 'black'\n",
    "t_['col'].iloc[range(0,29)]='red'\n",
    "\n",
    "t_['text'] = t_['text'] + ' ('+ t_['pc']+'%)'\n",
    "t_['text']=t_['text'].str.replace('• ','')\n",
    "t_['text']=t_['text'].str.replace('– ','')\n",
    "t_['text']=t_['text'].str.replace('» ','')\n",
    "t_['text']=t_['text'].str.replace('o mit','Dgeb_mit')\n",
    "t_['text']=t_['text'].str.replace('Migrationshintergrund','Mgh.')\n",
    "t_['text']=t_['text'].str.replace('seitigem','s.')\n",
    "t_=t_.fillna(0)\n",
    "t_['text'].iloc[range(3,12)]='m.MghiwS_m_eig_Erf:'+t_['text'].iloc[range(3,12)]\n",
    "t_['text'].iloc[range(12,20)]='m.MghiwS_o_eig_Erf:'+t_['text'].iloc[range(12,20)]\n",
    "t_['text'].iloc[range(21,27)]='m.MghieS_o_eig_Erf:'+t_['text'].iloc[range(21,27)]\n",
    "\n",
    "#Entfernen überzähliger Zeilen und Spalten\n",
    "t_.drop(['n','sy','py','pc'], axis=1, inplace=True) \n",
    "t_ = t_.drop(['Unbestimmt','Ohne Angabe','nachrichtlich: ','Nach Geburtsland bzw. Geburtsland der Eltern','» Adoptierte '])\n",
    "\n",
    "#Kontrollausdruck aller Zeilen'\n",
    "pd.set_option(\"display.max_rows\", None, \"display.max_columns\", None)\n",
    "print(t_)"
   ]
  },
  {
   "cell_type": "markdown",
   "id": "8e27fdab",
   "metadata": {},
   "source": [
    "Die Plotanweisung ist recht aufwendig, alles was bei Excel in irgendwelchen Dialogen eingestellt wird, muss hier durch entsprechende Befehlszeile erfolgen; die Systematik hat sich mir noch nicht so recht erschlossen, hängt aber auch vom jeweilien Grafikpaket ab; hier ist es pyplot.\n",
    "Der Befehl adjust, sorgt dafür, dass sich überlagernde Annotationen zurechtgerückt werden; leider ist die Berechnung serh zeitaufwendig."
   ]
  },
  {
   "cell_type": "code",
   "execution_count": 45,
   "id": "2802dde9",
   "metadata": {
    "scrolled": true
   },
   "outputs": [
    {
     "data": {
      "text/plain": [
       "<Figure size 4980x3510 with 0 Axes>"
      ]
     },
     "metadata": {},
     "output_type": "display_data"
    },
    {
     "data": {
      "image/png": "[encoded data removed]",
      "text/plain": [
       "<Figure size 432x288 with 1 Axes>"
      ]
     },
     "metadata": {
      "needs_background": "light"
     },
     "output_type": "display_data"
    }
   ],
   "source": [
    "xmean,ymean=t_['inc'][0],t_['edu'][0]\n",
    "# evtl. Auswahl bestimmer Untergruppen z.B. nach Farbe\n",
    "t_=t_[t_.col.isin(['red', 'blue'])]\n",
    "#xmin,xmax,xmean,ymin,ymax,ymean=1000,2750,t_['inc'][0],10,16,t_['edu'][0]\n",
    "xmin,xmax,ymin,ymax=t_['inc'].min(),t_['inc'].max(),t_['edu'].min(),t_['edu'].max()\n",
    "plt.close()\n",
    "plt.figure(figsize = (16.6,11.7), dpi=300, linewidth=0.1) \n",
    "#plt.gcf().set_dpi(80)\n",
    "fig, ax = plt.subplots()\n",
    "t_.plot('inc','edu', kind='scatter',  ax=ax, c='col', marker='.', s = 0.01)\n",
    "#plt.ylim(ymin,ymax)\n",
    "#plt.xlim(xmin,xmax)\n",
    "plt.xlabel('Persönliches Nettoeinkommen', fontsize=3)\n",
    "plt.ylabel('Bildungsjahre', fontsize=3)\n",
    "plt.rc('font', size=2)\n",
    "plt.rc('xtick', labelsize=2)\n",
    "plt.rc('ytick', labelsize=2)\n",
    "plt.rc('lines', markersize=2, linewidth=0.1)\n",
    "plt.rc('axes', linewidth=0.1)\n",
    "ax.tick_params(axis='both', which='major', width=0.1)\n",
    "texts = []\n",
    "for i, txt in enumerate(t_['text']):\n",
    "    texts.append(ax.annotate(txt, xy=(t_['inc'][i],t_['edu'][i]), xytext=(t_['inc'][i],t_['edu'][i]+.01),\n",
    "            horizontalalignment='right',\n",
    "            verticalalignment='bottom'))\n",
    "# der folgende adjust-Befehl sorgt für die Reduktion von Überlagerungen, ist aber recht rechenintensiv\n",
    "adjust_text(texts)\n",
    "ax.plot([xmin,xmax],[ymean,ymean],color='k')\n",
    "ax.plot([xmean,xmean],[ymin,ymax],color='k')\n",
    "try:\n",
    "  plt.savefig('migr1.pdf')\n",
    "except:\n",
    "  print('Die pdf-Datei ist noch geöffnet; der Plot konnte daher nicht gespeichert werden.') \n",
    "plt.show()"
   ]
  },
  {
   "cell_type": "code",
   "execution_count": null,
   "id": "2b0aba69",
   "metadata": {},
   "outputs": [],
   "source": []
  }
 ],
 "metadata": {
  "kernelspec": {
   "display_name": "Python 3",
   "language": "python",
   "name": "python3"
  },
  "language_info": {
   "codemirror_mode": {
    "name": "ipython",
    "version": 3
   },
   "file_extension": ".py",
   "mimetype": "text/x-python",
   "name": "python",
   "nbconvert_exporter": "python",
   "pygments_lexer": "ipython3",
   "version": "3.8.8"
  }
 },
 "nbformat": 4,
 "nbformat_minor": 5
}
